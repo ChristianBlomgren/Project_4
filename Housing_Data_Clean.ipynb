{
 "cells": [
  {
   "cell_type": "code",
   "execution_count": null,
   "id": "e0ad3d12-6d4e-4bff-9c23-89c212e9f8f2",
   "metadata": {},
   "outputs": [],
   "source": [
    "# Import data packages\n",
    "import pandas as pd\n",
    "from pathlib import Path\n",
    "import warnings\n",
    "\n",
    "# Import database packages\n",
    "from sqlalchemy import create_engine, select\n",
    "from sqlalchemy import Column, Integer, String, Float\n",
    "from sqlalchemy.orm import Session, declarative_base\n",
    "\n"
   ]
  },
  {
   "cell_type": "code",
   "execution_count": null,
   "id": "5afcd07c-dcf3-4c50-b790-88c18ac7eb37",
   "metadata": {},
   "outputs": [],
   "source": [
    "#Global configs\n",
    "pd.set_option('display.max_columns', None)\n",
    "warnings.filterwarnings('ignore')"
   ]
  },
  {
   "cell_type": "code",
   "execution_count": null,
   "id": "4289bb6b-dd55-493f-a6c6-d8551d4cd360",
   "metadata": {},
   "outputs": [],
   "source": [
    "#Open data file into csv\n",
    "file_path = Path(\"./data/zillow_listed_prices_052924.csv\")\n",
    "\n",
    "housing_data = pd.read_csv(file_path)\n",
    "housing_data.head()"
   ]
  },
  {
   "cell_type": "code",
   "execution_count": null,
   "id": "1fa9db38-0aa0-4e80-8cf3-0f00cd8658de",
   "metadata": {},
   "outputs": [],
   "source": [
    "housing_data.columns"
   ]
  },
  {
   "cell_type": "code",
   "execution_count": null,
   "id": "2aa93890-789f-44cd-8acd-4a7704c3718f",
   "metadata": {},
   "outputs": [],
   "source": [
    "corr_data = housing_data[['area', 'baths', 'beds', 'latLong/latitude', 'latLong/longitude']].corrwith(housing_data['unformattedPrice'])\n",
    "corr_data"
   ]
  },
  {
   "cell_type": "code",
   "execution_count": null,
   "id": "0c0de0ad-a3aa-491f-92bf-da80b412a853",
   "metadata": {},
   "outputs": [],
   "source": [
    "housing_data.columns"
   ]
  },
  {
   "cell_type": "code",
   "execution_count": null,
   "id": "8a1af688-3bd6-48a7-b44a-882ee58002c9",
   "metadata": {},
   "outputs": [],
   "source": [
    "# Drop unnecessary columns\n",
    "model_df = housing_data[['id', 'area', 'baths', 'beds', 'latLong/latitude', 'latLong/longitude', 'unformattedPrice']]\n",
    "model_df.head()"
   ]
  },
  {
   "cell_type": "code",
   "execution_count": null,
   "id": "f163664f-d5ed-4dd2-8fc9-a4caef8eb539",
   "metadata": {},
   "outputs": [],
   "source": [
    "# Create df for reference data\n",
    "ref_df = housing_data[['id', 'price', 'addressCity', 'addressZipcode', 'area', 'baths',\n",
    "        'beds', 'latLong/latitude', 'latLong/longitude',  'statusText']]\n",
    "ref_df.head()"
   ]
  },
  {
   "cell_type": "code",
   "execution_count": null,
   "id": "8ab3087e-5890-44ab-928a-aa0f858744d2",
   "metadata": {},
   "outputs": [],
   "source": [
    "# Start model data cleaning\n",
    "\n",
    "#rename columns\n",
    "model_df = model_df.rename(columns={'id': 'id', 'area': 'sqft', 'latLong/latitude': 'latitude', \n",
    "                                    'latLong/longitude': 'longitude', 'unformattedPrice': 'sale_price'})\n",
    "\n",
    "#Confirm final data\n",
    "model_df.head()"
   ]
  },
  {
   "cell_type": "code",
   "execution_count": null,
   "id": "39bb3e52-e04a-437f-87e2-31a974630efe",
   "metadata": {},
   "outputs": [],
   "source": [
    "#Start reference data cleansing\n",
    "ref_df = ref_df.rename(columns={'addressCity': 'city', 'addressZipcode': 'zipcode', 'area': 'sqft', \n",
    "                        'latLong/latitude': 'latitude', 'latLong/longitude': 'longitude',  'statusText': 'type'})\n",
    "\n",
    "#cleanup house type\n",
    "ref_df['type'] = ref_df.apply(lambda row: row['type'].split(\" \")[0], axis=1)\n",
    "\n",
    "ref_df.head()"
   ]
  },
  {
   "cell_type": "code",
   "execution_count": null,
   "id": "d1e2f6fc-43cb-4b57-8094-282b3e4958fb",
   "metadata": {},
   "outputs": [],
   "source": [
    "#Get model columns for database\n",
    "model_df.columns"
   ]
  },
  {
   "cell_type": "code",
   "execution_count": null,
   "id": "1d811ef1-57fd-4c61-9cbc-3240a7b3a0af",
   "metadata": {},
   "outputs": [],
   "source": [
    "#Get reference columns for database\n",
    "ref_df.columns"
   ]
  },
  {
   "cell_type": "code",
   "execution_count": null,
   "id": "166a4179-82b1-4b01-b4f7-71d340997cde",
   "metadata": {},
   "outputs": [],
   "source": [
    "# Begin data classes and storage\n",
    "Base = declarative_base()\n",
    "\n",
    "# Create a connection to a SQLite database\n",
    "engine = create_engine(f\"sqlite:///housing_model.db\")"
   ]
  },
  {
   "cell_type": "code",
   "execution_count": null,
   "id": "8f9bbf75-09f0-4baa-a9b7-76538e28ed73",
   "metadata": {},
   "outputs": [],
   "source": [
    "#Define model and reference tables\n",
    "\n",
    "class ModelData(Base):\n",
    "    __tablename__ = 'model_data'\n",
    "    id = Column(Integer, primary_key=True)\n",
    "    beds = Column(Integer)\n",
    "    baths = Column(Integer)\n",
    "    sqft = Column(Integer)\n",
    "    latitude = Column(Integer)\n",
    "    longitude = Column(Integer)\n",
    "    price = Column(Integer)\n",
    "\n",
    "class RefData(Base):\n",
    "    __tablename__ = 'reference_data'\n",
    "    id = Column(Integer, primary_key=True)\n",
    "    price = Column(String)\n",
    "    city = Column(String)\n",
    "    zipcode = Column(String)\n",
    "    sqft = Column(Integer)\n",
    "    baths = Column(Integer)\n",
    "    beds = Column(Integer)\n",
    "    latitude = Column(Float)\n",
    "    longitude = Column(Float)\n",
    "    type = Column(String)"
   ]
  },
  {
   "cell_type": "code",
   "execution_count": null,
   "id": "028d7cf4-7f86-469f-b91a-4b0446f30214",
   "metadata": {},
   "outputs": [],
   "source": [
    "# Create the travel_destinations table within the database\n",
    "Base.metadata.create_all(engine)"
   ]
  },
  {
   "cell_type": "code",
   "execution_count": null,
   "id": "f94e68df-63ee-418d-b4dc-8acac6d12ccb",
   "metadata": {},
   "outputs": [],
   "source": [
    "# Loop thru dataframes and write to tables\n",
    "\n",
    "with Session(engine) as session:\n",
    "    #Loop thru model data\n",
    "    for index, row in model_df.iterrows():\n",
    "        model = ModelData()\n",
    "        model.id = row['id']\n",
    "        model.beds = row['beds']\n",
    "        model.baths = row['baths']\n",
    "        model.sqft = row['sqft']\n",
    "        model.latitude = row['latitude']\n",
    "        model.longitude = row['longitude']\n",
    "        model.price = row['sale_price']\n",
    "\n",
    "        session.add(model)\n",
    "\n",
    "    #commit after adding all rows for each model\n",
    "    session.commit()\n",
    "\n",
    "    #Loop thru reference data\n",
    "    for index, row in ref_df.iterrows():\n",
    "        ref = RefData()\n",
    "        ref.id = row['id']\n",
    "        ref.price = row['price']\n",
    "        ref.city = row['city']\n",
    "        ref.zipcode = row['zipcode']\n",
    "        ref.sqft = row['sqft']\n",
    "        ref.baths = row['baths']\n",
    "        ref.beds = row['beds']\n",
    "        ref.latitude = row['latitude']\n",
    "        ref.longitude = row['longitude']\n",
    "        ref.type = row['type']\n",
    "\n",
    "        session.add(ref)\n",
    "\n",
    "    #commit after adding all rows for each model\n",
    "    session.commit()\n",
    "    "
   ]
  },
  {
   "cell_type": "code",
   "execution_count": null,
   "id": "47687f5c-171e-415c-880b-b70c951da40f",
   "metadata": {},
   "outputs": [],
   "source": [
    "#Validate data in database\n",
    "#Model data\n",
    "stmt = select(ModelData)\n",
    "results = session.execute(stmt).mappings().all()\n",
    "for row in results:\n",
    "    print(f'ID: {row.ModelData.id} - Price: {row.ModelData.price}')"
   ]
  },
  {
   "cell_type": "code",
   "execution_count": null,
   "id": "b3c8db2e-0342-4afc-bfee-6f6e44ec67cb",
   "metadata": {},
   "outputs": [],
   "source": [
    "#Reference data\n",
    "stmt = select(RefData)\n",
    "results = session.execute(stmt).mappings().all()\n",
    "for row in results:\n",
    "    print(f'ID: {row.RefData.id} - Price: {row.RefData.price}')"
   ]
  },
  {
   "cell_type": "code",
   "execution_count": null,
   "id": "656059a2-393b-49b6-9b01-9656ed0086b3",
   "metadata": {},
   "outputs": [],
   "source": [
    "session.close()"
   ]
  },
  {
   "cell_type": "code",
   "execution_count": null,
   "id": "5e3ba925-26c1-46f2-a426-268e3143ec29",
   "metadata": {},
   "outputs": [],
   "source": []
  }
 ],
 "metadata": {
  "kernelspec": {
   "display_name": "Python 3 (ipykernel)",
   "language": "python",
   "name": "python3"
  },
  "language_info": {
   "codemirror_mode": {
    "name": "ipython",
    "version": 3
   },
   "file_extension": ".py",
   "mimetype": "text/x-python",
   "name": "python",
   "nbconvert_exporter": "python",
   "pygments_lexer": "ipython3",
   "version": "3.11.5"
  }
 },
 "nbformat": 4,
 "nbformat_minor": 5
}
